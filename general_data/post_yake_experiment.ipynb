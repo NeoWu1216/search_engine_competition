{
 "cells": [
  {
   "cell_type": "code",
   "execution_count": 1,
   "metadata": {},
   "outputs": [
    {
     "name": "stdout",
     "output_type": "stream",
     "text": [
      "527747\n"
     ]
    }
   ],
   "source": [
    "import pickle\n",
    "import os\n",
    "\n",
    "features = {}\n",
    "\n",
    "for p in os.listdir():\n",
    "    if 'pickle' in p:\n",
    "        with open(p, 'rb') as f:\n",
    "            features.update(pickle.load(f))\n",
    "\n",
    "print(len(features))"
   ]
  },
  {
   "cell_type": "code",
   "execution_count": 2,
   "metadata": {},
   "outputs": [
    {
     "name": "stdout",
     "output_type": "stream",
     "text": [
      "Processing 0  magnetic levitation maglev \n",
      "Processing 1  women parliaments \n",
      "Processing 2  argentine british relations \n",
      "Processing 3  cult lifestyles \n",
      "Processing 4  modern slavery \n",
      "Processing 5  black bear attacks \n",
      "Processing 6  abuses e mail \n",
      "Processing 7  educational standards \n",
      "Processing 8  falkland petroleum exploration \n",
      "Processing 9  british chunnel impact \n",
      "Processing 10  antarctica exploration \n",
      "Processing 11  territorial waters dispute \n",
      "Processing 12  drug legalization benefits \n",
      "Processing 13  el nino \n",
      "Processing 14  vitro fertilization \n",
      "Processing 15  nobel prize winners \n",
      "Processing 16  mental illness drugs \n",
      "Processing 17  orphan drugs \n",
      "Processing 18  home schooling \n",
      "Processing 19  oceanographic vessels \n",
      "Processing 20  cosmic events \n",
      "Processing 21  airport security \n",
      "Processing 22  steel production \n",
      "Processing 23  creativity \n",
      "Processing 24  carbon monoxide poisoning \n",
      "Processing 25  milosevic mirjana markovic \n",
      "Processing 26  law enforcement dogs \n",
      "Processing 27  killer bee attacks \n",
      "Processing 28  curbing population growth \n",
      "Processing 29  child labor \n",
      "Processing 30  tourists violence \n",
      "Processing 31  czech slovak sovereignty \n",
      "Processing 32  lyme disease arthritis \n",
      "Processing 33  leg traps ban \n",
      "Processing 34  capita alcohol consumption \n",
      "Processing 35  timber exports asia \n",
      "Processing 36  women ordained church england \n",
      "Processing 37  l tryptophan deaths \n",
      "Processing 38  software piracy \n",
      "Processing 39  school prayer banned \n",
      "Processing 40  cruise health safety \n",
      "Processing 41  melanoma treatment causes \n",
      "Processing 42  agent orange exposure \n",
      "Processing 43  american indian museum \n",
      "Processing 44  poverty africa sub sahara \n",
      "Processing 45  islamic revolution \n",
      "Processing 46  czechoslovakia breakup \n",
      "Processing 47  northern ireland industry \n",
      "Processing 48  white collar crime sentence \n"
     ]
    }
   ],
   "source": [
    "import xml.etree.ElementTree as ET\n",
    "\n",
    "tree = ET.parse('../Assignment_initial_datasets/General_data/testqueries.xml')\n",
    "root = tree.getroot()\n",
    "\n",
    "num = None\n",
    "\n",
    "\n",
    "with open('../submission/Search_engine_competition/results/General_domain_results.txt', 'w') as ref:\n",
    "    for i, query in enumerate(root):\n",
    "        for elem in query:\n",
    "            if elem.tag != 'text':\n",
    "                num = int(elem.text)\n",
    "                continue\n",
    "\n",
    "            query_string = elem.text\n",
    "            query_string = query_string[query_string.index('(')+1: query_string.index(')')]\n",
    "            print('Processing '+str(i)+\" \"+query_string)\n",
    "            # Initialize query\n",
    "\n",
    "            rank_list = []\n",
    "            for doc, feat in features.items():\n",
    "                score = 1\n",
    "                for w in query_string.split():\n",
    "                    score *= feat.get(w, 1)\n",
    "                rank_list.append((score*100, doc))\n",
    "            rank_list.sort()\n",
    "        \n",
    "            for score, doc in rank_list[:100]:\n",
    "                ref.write('{}\\t{}\\t{}\\n'.format(i, doc, 1/score))"
   ]
  },
  {
   "cell_type": "code",
   "execution_count": null,
   "metadata": {},
   "outputs": [],
   "source": []
  }
 ],
 "metadata": {
  "kernelspec": {
   "display_name": "Python 3",
   "language": "python",
   "name": "python3"
  },
  "language_info": {
   "codemirror_mode": {
    "name": "ipython",
    "version": 3
   },
   "file_extension": ".py",
   "mimetype": "text/x-python",
   "name": "python",
   "nbconvert_exporter": "python",
   "pygments_lexer": "ipython3",
   "version": "3.6.5"
  }
 },
 "nbformat": 4,
 "nbformat_minor": 2
}
